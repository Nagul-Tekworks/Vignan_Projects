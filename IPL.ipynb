{
 "cells": [
  {
   "cell_type": "markdown",
   "id": "365d6ec7-ec75-43e6-a215-1ff854e376c4",
   "metadata": {},
   "source": [
    "# IPL match analysis\n"
   ]
  },
  {
   "cell_type": "markdown",
   "id": "21b5066a-8e80-4597-8068-19ba5c5376a2",
   "metadata": {},
   "source": [
    "Which team won the most matches in 2008?\n",
    "\n",
    "Which city hosted the highest number of matches?\n",
    "\n",
    "Which team won more often while batting first?\n",
    "\n",
    "Which team won more often while fielding first?\n",
    "\n",
    "Does winning the toss increase the chance of winning the match?\n",
    "\n",
    "Which toss decision (bat or field) leads to more wins?\n",
    "\n",
    "Which stadium hosted the most matches in the dataset?\n",
    "\n",
    "Which venue saw the most wins for home teams?\n",
    "\n",
    "Which venue saw the most wins for away teams?\n",
    "\n",
    "Is there any relationship between toss winner and match winner?\n",
    "\n",
    "Which team had the highest win percentage in this dataset?\n",
    "\n",
    "How often did the team winning the toss lose the match?\n",
    "\n",
    "Which city’s teams performed the best overall?\n",
    "\n",
    "What percentage of matches were won by batting first versus fielding first?\n",
    "\n",
    "Which team lost the most tosses but still won matches?\n",
    "\n",
    "Are there cities where fielding first gives a higher chance of winning?\n",
    "\n",
    "Which toss decision is more successful at each venue?\n",
    "\n",
    "Which team won matches most frequently in their home city?\n",
    "\n",
    "Which opponent teams faced each other most often in this dataset?\n",
    "\n",
    "Are there any stadiums where the same team keeps winning?\n",
    "\n",
    "What is the average number of matches played per city?\n",
    "\n",
    "Which teams appeared in the most matches?\n",
    "\n",
    "Which team won the most matches after losing the toss?\n",
    "\n",
    "Are there cities or venues where the toss winner always won the match?\n",
    "\n",
    "What percentage of matches were won by the team that chose to bat?\n",
    "\n",
    "What percentage of matches were won by the team that chose to field?\n",
    "\n",
    "Which city has the most balanced win distribution among teams?\n",
    "\n",
    "Are there any cities where one team dominated completely?\n",
    "\n",
    "What are the overall toss-winning trends for top-performing teams?\n",
    "\n",
    "Based on current data, what would be the ideal toss decision for a team playing in each city?"
   ]
  },
  {
   "cell_type": "code",
   "execution_count": null,
   "id": "3276f014-b1cf-4baa-b1d1-7960e043d0be",
   "metadata": {},
   "outputs": [],
   "source": []
  }
 ],
 "metadata": {
  "kernelspec": {
   "display_name": "Python 3 (ipykernel)",
   "language": "python",
   "name": "python3"
  },
  "language_info": {
   "codemirror_mode": {
    "name": "ipython",
    "version": 3
   },
   "file_extension": ".py",
   "mimetype": "text/x-python",
   "name": "python",
   "nbconvert_exporter": "python",
   "pygments_lexer": "ipython3",
   "version": "3.12.4"
  }
 },
 "nbformat": 4,
 "nbformat_minor": 5
}
